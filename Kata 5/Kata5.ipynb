{
 "cells": [
  {
   "cell_type": "markdown",
   "metadata": {},
   "source": [
    "# Ejercicio1 - Utilizar operadores aritméticos\n",
    "Exploremos cómo podemos crear un programa que pueda calcular la distancia entre dos planetas. Comenzaremos usando dos distancias de planetas: Tierra (149.597.870 km) y Júpiter (778.547.200 km)."
   ]
  },
  {
   "cell_type": "code",
   "execution_count": 3,
   "metadata": {},
   "outputs": [
    {
     "name": "stdout",
     "output_type": "stream",
     "text": [
      "628949330\n",
      "390577533.93\n"
     ]
    }
   ],
   "source": [
    "distanciaTierra = 149597870\n",
    "distanciaJupiter = 778547200\n",
    "\n",
    "distanciaTotal = abs(distanciaTierra-distanciaJupiter) \n",
    "dtenmillas = abs(distanciaTotal * 0.621)\n",
    "print(distanciaTotal)\n",
    "print (dtenmillas)"
   ]
  },
  {
   "cell_type": "markdown",
   "metadata": {},
   "source": [
    "# Ejercicio 2: convierte cadenas en números y usa valores absolutos\n",
    "Con frecuencia, deberás convertir los valores de cadena en números para realizar correctamente diferentes operaciones o determinar el valor absoluto de un número.\n",
    "\n",
    "Para crear nuestra aplicación, queremos leer la distancia del sol para dos planetas, y luego mostrar la distancia entre los planetas. Haremos esto usando input para leer los valores, int para convertir a entero y luego abs para convertir el resultado en su valor absoluto."
   ]
  },
  {
   "cell_type": "code",
   "execution_count": 1,
   "metadata": {},
   "outputs": [
    {
     "name": "stdout",
     "output_type": "stream",
     "text": [
      "Este es la distancia entre planetas 50300000 Km\n",
      "Esta es la distancia entre planetas en millas 31236300.0 Millas\n"
     ]
    }
   ],
   "source": [
    "#almacenar las entradas del usuario\n",
    "planeta1 = input(\"¿Cuál es la distancia del sol al primer planeta?\")\n",
    "planeta2 = input(\"¿Cuál es la distancia del sol al segundo planeta?\")\n",
    "\n",
    "#Convirtiendo los valores a enteros\n",
    "valorEntero1 = int(planeta1)\n",
    "valorEntero2 = int(planeta2)\n",
    "\n",
    "distanciaPlanetas = abs(valorEntero1 - valorEntero2)\n",
    "distanciaMillas = distanciaPlanetas * 0.621\n",
    "\n",
    "print(f\"Este es la distancia entre planetas {distanciaPlanetas} Km\")\n",
    "print(f\"Esta es la distancia entre planetas en millas {distanciaMillas} Millas\")"
   ]
  }
 ],
 "metadata": {
  "kernelspec": {
   "display_name": "\"Python/Mu (mu_venv-38-20211024-174343)\"",
   "language": "python",
   "name": "mu_venv-38-20211024-174343"
  },
  "orig_nbformat": 4
 },
 "nbformat": 4,
 "nbformat_minor": 2
}
