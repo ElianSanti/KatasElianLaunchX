{
 "cells": [
  {
   "cell_type": "markdown",
   "metadata": {},
   "source": [
    "# Ejercicio 1: Trabajar con argumentos en funciones"
   ]
  },
  {
   "cell_type": "code",
   "execution_count": 20,
   "metadata": {},
   "outputs": [
    {
     "name": "stdout",
     "output_type": "stream",
     "text": [
      "1.6666666666666667\n"
     ]
    }
   ],
   "source": [
    "def informes(comb1,comb2,comb3):\n",
    "    informe = comb1+comb2+comb3\n",
    "    return promedio(informe)\n",
    "def promedio(valor):\n",
    "    valor = valor / 3\n",
    "    return valor\n",
    "print(informes(3,1,1))"
   ]
  },
  {
   "cell_type": "markdown",
   "metadata": {},
   "source": [
    "# Ejercicio 2: Trabajo con argumentos de palabra clave"
   ]
  },
  {
   "cell_type": "code",
   "execution_count": 17,
   "metadata": {},
   "outputs": [
    {
     "name": "stdout",
     "output_type": "stream",
     "text": [
      "Hora de prelanzamiento: 20 \n",
      "        tiempo de vuelo: 90 \n",
      "        destino: Marte \n",
      "        tanque externo: 80 y tanque interno: 50 \n",
      "Tiempo total de vuelo: 170 \n",
      "        destino: marte \n",
      "        Total de combustible: 130\n",
      "El combustible en el tankEX es de 80 \n",
      "El combustible en el tankIN es de 50 \n"
     ]
    }
   ],
   "source": [
    "\n",
    "def informes(hrRreesplazamiento,tiempoVuelo,destino,tankE,tankI):\n",
    "    return print(f\"\"\"Hora de prelanzamiento: {hrRreesplazamiento} \n",
    "        tiempo de vuelo: {tiempoVuelo} \n",
    "        destino: {destino} \n",
    "        tanque externo: {tankE} y tanque interno: {tankI} \"\"\")\n",
    "\n",
    "informes(20,90,\"Marte\",80,50)\n",
    "\n",
    "def informesCorto(destino, *minutos, **fuel_reservoirs):\n",
    "    print(f\"\"\"Tiempo total de vuelo: {sum(minutos)} \n",
    "        destino: {destino} \n",
    "        Total de combustible: {sum(fuel_reservoirs.values())}\"\"\")\n",
    "    for tankE, tankI in fuel_reservoirs.items():\n",
    "        print(f\"\"\"El combustible en el {tankE} es de {tankI} \"\"\")\n",
    "\n",
    "informesCorto(\"marte\",80,90, tankEX=80, tankIN=50)\n"
   ]
  },
  {
   "cell_type": "code",
   "execution_count": 1,
   "metadata": {},
   "outputs": [
    {
     "name": "stdout",
     "output_type": "stream",
     "text": [
      "\n",
      "    Mission to Moon\n",
      "    Total travel time: 74 minutes\n",
      "    Total fuel left: 500000\n",
      "    main tank --> 300000 gallons left\n",
      "external tank --> 200000 gallons left\n",
      "\n"
     ]
    }
   ],
   "source": [
    "\n",
    "def mission_report(destination, *minutes, **fuel_reservoirs):\n",
    "    main_report = f\"\"\"\n",
    "    Mission to {destination}\n",
    "    Total travel time: {sum(minutes)} minutes\n",
    "    Total fuel left: {sum(fuel_reservoirs.values())}\n",
    "    \"\"\"\n",
    "    for tank_name, gallons in fuel_reservoirs.items():\n",
    "        main_report += f\"{tank_name} tank --> {gallons} gallons left\\n\"\n",
    "    return main_report\n",
    "\n",
    "print(mission_report(\"Moon\", 8, 11, 55, main=300000, external=200000))"
   ]
  }
 ],
 "metadata": {
  "kernelspec": {
   "display_name": "\"Python/Mu (mu_venv-38-20211024-174343)\"",
   "language": "python",
   "name": "mu_venv-38-20211024-174343"
  },
  "language_info": {
   "codemirror_mode": {
    "name": "ipython",
    "version": 3
   },
   "file_extension": ".py",
   "mimetype": "text/x-python",
   "name": "python",
   "nbconvert_exporter": "python",
   "pygments_lexer": "ipython3",
   "version": "3.8.11"
  },
  "orig_nbformat": 4
 },
 "nbformat": 4,
 "nbformat_minor": 2
}
