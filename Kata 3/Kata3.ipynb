{
 "cells": [
  {
   "cell_type": "markdown",
   "metadata": {},
   "source": [
    "Las instrucciones If te permiten ejecutar condicionalmente código Python. Se usan comúnmente en Python para \"tomar decisiones\" sobre lo que debería suceder a continuación mientras se ejecuta un programa.\n",
    "\n",
    "Para crear una instrucción if en Python, define una expresión de prueba que pueda tener un valor True o False, seguido de un bloque de código con sangría que se ejecutará si se cumple la condición.\n",
    "\n",
    "if expresion_prueba:\n",
    "    # intrucción(es) a ejecutar\n",
    "\n",
    "Para escribir un programa con una lógica condicional más compleja, puedes agregar instrucciones else y elif al bloque de código. También puedes anidar instrucciones condicionales."
   ]
  },
  {
   "cell_type": "code",
   "execution_count": 18,
   "metadata": {},
   "outputs": [
    {
     "name": "stdout",
     "output_type": "stream",
     "text": [
      "c es mayor que b y que a\n"
     ]
    }
   ],
   "source": [
    "a = 10\n",
    "b = 20\n",
    "c = 30\n",
    "if a<b:\n",
    "    if c>b:\n",
    "        print(\"c es mayor que b y que a\")\n",
    "    else:\n",
    "        print(\"b es mayor que c y a\")\n",
    "elif a==b:\n",
    "    print(\"a es igual a b\")\n",
    "else:\n",
    "    print(\"a es mayor que b\")"
   ]
  },
  {
   "cell_type": "markdown",
   "metadata": {},
   "source": [
    "# Añadir el código necesario para crear una variable que guarde la velocidad del asteroide.\n",
    "# Escribe una expresión de prueba para calcular si necesita una advertencia.\n",
    "# Agregue las instrucciones que se ejecutarán si la expresión de prueba es true o false."
   ]
  },
  {
   "cell_type": "code",
   "execution_count": 20,
   "metadata": {},
   "outputs": [
    {
     "name": "stdout",
     "output_type": "stream",
     "text": [
      "¡Advertencia un asteroide potencialmente peligroso se acerca a gran velocidad a la tierra!\n"
     ]
    }
   ],
   "source": [
    "velAd = 25\n",
    "velAst = 49\n",
    "\n",
    "if velAst >= velAd:\n",
    "    print(\"¡Advertencia un asteroide potencialmente peligroso se acerca a gran velocidad a la tierra!\")\n",
    "else:\n",
    "    print(\"Todo se encuentra bien como siempre c:\")"
   ]
  },
  {
   "cell_type": "markdown",
   "metadata": {},
   "source": [
    "# Agrega el código para crear una variable para un asteroide que viaja a 19 km/s\n",
    "# Escribe varias expresiones de prueba para determinar si puedes ver el rayo de luz desde la tierra\n",
    "# Agrega las instrucciones que se ejecutarán si las expresiones de prueba son True o False"
   ]
  },
  {
   "cell_type": "code",
   "execution_count": 24,
   "metadata": {},
   "outputs": [
    {
     "name": "stdout",
     "output_type": "stream",
     "text": [
      "Todo se encuentra normal hoy...\n"
     ]
    }
   ],
   "source": [
    "velAst = 19\n",
    "velAd = 20\n",
    "if velAst > velAd:\n",
    "    print(\"Ves un destello de luz a lo lejos... ¡Es un asteroide!\")\n",
    "elif velAst==velAd: \n",
    "    print(\"¿Qué es eso a lo lejos?... ¡Es un asteroide!\")\n",
    "else:   \n",
    "    print(\"Todo se encuentra normal hoy...\")"
   ]
  },
  {
   "cell_type": "markdown",
   "metadata": {},
   "source": [
    "# Agrega el código para crear nuevas variables para la velocidad y el tamaño del asteroide\n",
    "# Para probar el código, prueba con varias velocidades y tamaños\n",
    "# Escribe varias expresiones de prueba o combinaciones de expresiones de prueba para determinar qué mensaje se debe enviar a Tierra."
   ]
  },
  {
   "cell_type": "code",
   "execution_count": 45,
   "metadata": {},
   "outputs": [
    {
     "name": "stdout",
     "output_type": "stream",
     "text": [
      "¡Cuidado, un asteroide potencialmente peligroso está cerca de la tierra, busca refugio!\n"
     ]
    }
   ],
   "source": [
    "tamAst = 1010\n",
    "velAst = 40\n",
    "\n",
    "if tamAst >= 25 or tamAst <= 1000 and velAst >= 25:\n",
    "    print(\"¡Cuidado, un asteroide potencialmente peligroso está cerca de la tierra, busca refugio!\")\n",
    "elif velAst >= 20:\n",
    "    print(\"¿Qué es eso?... ¡Es un asteroide!\")\n",
    "else:\n",
    "    print(\"Todo se encuentra bien hoy c:\")"
   ]
  }
 ],
 "metadata": {
  "kernelspec": {
   "display_name": "\"Python/Mu (mu_venv-38-20211024-174343)\"",
   "language": "python",
   "name": "mu_venv-38-20211024-174343"
  },
  "orig_nbformat": 4
 },
 "nbformat": 4,
 "nbformat_minor": 2
}
