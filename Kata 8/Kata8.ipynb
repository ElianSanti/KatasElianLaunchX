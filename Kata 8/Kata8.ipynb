{
 "cells": [
  {
   "cell_type": "markdown",
   "metadata": {},
   "source": [
    "# Ejercicio 1: Creación de diccionarios de Python"
   ]
  },
  {
   "cell_type": "code",
   "execution_count": 20,
   "metadata": {},
   "outputs": [
    {
     "name": "stdout",
     "output_type": "stream",
     "text": [
      "La circunferencia de mars es: 6752 km\n"
     ]
    }
   ],
   "source": [
    "planet = {\n",
    "    'name' : 'mars',\n",
    "    'moons': 2\n",
    "}\n",
    "planet.get('name')\n",
    "planet['moons']\n",
    "\n",
    "planet.update({\n",
    "    'circunferencia(km)' : {\n",
    "        'polar' : 6752 , \n",
    "        'equatorial' : 6792}\n",
    "    })\n",
    "\n",
    "print(f\"La circunferencia de {planet['name']} es: {planet['circunferencia(km)']['polar']} km\")"
   ]
  },
  {
   "cell_type": "markdown",
   "metadata": {},
   "source": [
    "# Ejercicio 2: Programación dinámica con diccionarios"
   ]
  },
  {
   "cell_type": "code",
   "execution_count": 44,
   "metadata": {},
   "outputs": [
    {
     "name": "stdout",
     "output_type": "stream",
     "text": [
      "Numero total de planetas: 12\n",
      "Numero total de lunas: 214 \n",
      "Promedio de lunas por planeta:17.833333333333332\n"
     ]
    }
   ],
   "source": [
    "planet_moons = {\n",
    "    'mercury': 0,\n",
    "    'venus': 0,\n",
    "    'earth': 1,\n",
    "    'mars': 2,\n",
    "    'jupiter': 79,\n",
    "    'saturn': 82,\n",
    "    'uranus': 27,\n",
    "    'neptune': 14,\n",
    "    'pluto': 5,\n",
    "    'haumea': 2,\n",
    "    'makemake': 1,\n",
    "    'eris': 1\n",
    "}\n",
    "\n",
    "moons = 0\n",
    "planets = 0\n",
    "for values in planet_moons.values():\n",
    "    planets = len(planet_moons)\n",
    "    moons = moons + values\n",
    "print(f\"Numero total de planetas: {planets}\")\n",
    "print(f\"Numero total de lunas: {moons} \")\n",
    "print(f\"Promedio de lunas por planeta:{moons/planets}\")"
   ]
  }
 ],
 "metadata": {
  "kernelspec": {
   "display_name": "\"Python/Mu (mu_venv-38-20211024-174343)\"",
   "language": "python",
   "name": "mu_venv-38-20211024-174343"
  },
  "language_info": {
   "codemirror_mode": {
    "name": "ipython",
    "version": 3
   },
   "file_extension": ".py",
   "mimetype": "text/x-python",
   "name": "python",
   "nbconvert_exporter": "python",
   "pygments_lexer": "ipython3",
   "version": "3.8.11"
  },
  "orig_nbformat": 4
 },
 "nbformat": 4,
 "nbformat_minor": 2
}
